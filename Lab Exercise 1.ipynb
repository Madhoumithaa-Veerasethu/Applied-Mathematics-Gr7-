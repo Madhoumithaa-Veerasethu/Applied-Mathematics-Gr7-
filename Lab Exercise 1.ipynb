{
 "cells": [
  {
   "cell_type": "markdown",
   "metadata": {},
   "source": [
    "<p style=\"font-family: Arial; font-size:3em;color:black;\"> Lab 1 </p>"
   ]
  },
  {
   "cell_type": "markdown",
   "metadata": {},
   "source": [
    "Students name in this Group:"
   ]
  },
  {
   "cell_type": "code",
   "execution_count": 1,
   "metadata": {},
   "outputs": [],
   "source": [
    "# importing numpy\n",
    "import numpy as np"
   ]
  },
  {
   "cell_type": "code",
   "execution_count": 45,
   "metadata": {},
   "outputs": [
    {
     "name": "stdout",
     "output_type": "stream",
     "text": [
      "The array is [1 2 3 5 0]\n",
      "Are all elements non-zero?: False\n"
     ]
    }
   ],
   "source": [
    "# Create a numpy array with the elements \"1, 2, 3, 5, 0\", print the array and test if all of its elements are non-zero.\n",
    "arr1 = np.array([1,2,3,5,0])\n",
    "print(\"The array is\", arr1)\n",
    "res_arr1 = np.all(arr1!=0)\n",
    "print(\"Are all elements non-zero?:\", res_arr1)"
   ]
  },
  {
   "cell_type": "code",
   "execution_count": 47,
   "metadata": {},
   "outputs": [
    {
     "name": "stdout",
     "output_type": "stream",
     "text": [
      "The array is [ 3 -1  3  7  2]\n",
      "Are any elements non-zero?: True\n"
     ]
    }
   ],
   "source": [
    "# Create a numpy array with the elements \"3, -1, 3, 7, 2\", print the array and test if any of its elements is non-zero.\n",
    "arr2 = np.array([3,-1,3,7,2])\n",
    "print(\"The array is\", arr2)\n",
    "res_arr2 = np.any(arr2!=0)\n",
    "print(\"Are any elements non-zero?:\", res_arr2)"
   ]
  },
  {
   "cell_type": "code",
   "execution_count": 49,
   "metadata": {},
   "outputs": [
    {
     "name": "stdout",
     "output_type": "stream",
     "text": [
      "The array is [0 0 0 0]\n",
      "Are any elements non-zero?: False\n"
     ]
    }
   ],
   "source": [
    "# Create a numpy array with the elements \"0, 0, 0, 0\", print the array and test if any of its elements is non-zero.\n",
    "arr3 = np.array([0,0,0,0])\n",
    "print(\"The array is\", arr3)\n",
    "res_arr3 = np.any(arr3!=0)\n",
    "print(\"Are any elements non-zero?:\",res_arr3)"
   ]
  },
  {
   "cell_type": "code",
   "execution_count": 55,
   "metadata": {},
   "outputs": [
    {
     "name": "stdout",
     "output_type": "stream",
     "text": [
      "The array is [56 -2  7]\n",
      "The memory required to store the array is 12\n"
     ]
    }
   ],
   "source": [
    "# Create a numpy array with the elements \"56, -2, 7\", print the array and the amount of memory required to store it.\n",
    "arr4 = np.array([56,-2,7])\n",
    "print(\"The array is\", arr4)\n",
    "size = arr4.size\n",
    "itemsize = arr4.itemsize\n",
    "memory = size * itemsize\n",
    "print(\"The memory required to store the array is\", memory)\n"
   ]
  },
  {
   "cell_type": "code",
   "execution_count": 54,
   "metadata": {},
   "outputs": [
    {
     "name": "stdout",
     "output_type": "stream",
     "text": [
      "Array of zeros: [0. 0. 0. 0. 0. 0. 0. 0. 0. 0.]\n",
      "Array of ones: [1. 1. 1. 1. 1. 1.]\n",
      "Array of threes: [3. 3. 3. 3. 3. 3. 3. 3. 3. 3. 3. 3.]\n"
     ]
    }
   ],
   "source": [
    "# Create a numpy array with 10 zeros and print the array.\n",
    "arr_zeros = np.zeros(10)\n",
    "print(\"Array of zeros:\", arr_zeros)\n",
    "\n",
    "# Create a numpy array with 6 ones and print the array.\n",
    "arr_ones = np.ones(6)\n",
    "print(\"Array of ones:\", arr_ones)\n",
    "\n",
    "# Create a numpy array with 12 '3's and print the array. [3 3 3 3 3 3 3 3 3 3 3 3]\n",
    "arr_threes = 3 * np.ones(12)\n",
    "print(\"Array of threes:\", arr_threes)"
   ]
  },
  {
   "cell_type": "code",
   "execution_count": 52,
   "metadata": {},
   "outputs": [
    {
     "name": "stdout",
     "output_type": "stream",
     "text": [
      "The array is [ 8  9 10 11 12 13 14 15 16 17 18 19 20]\n",
      "The array is [ 8 10 12 14 16 18 20]\n"
     ]
    }
   ],
   "source": [
    "# Create a numpy array of the integers from 8 to 20 and print the array. (make sure 20 itself is included) hint:  use \"arange\" method\n",
    "arr5 = np.arange(8,21)\n",
    "print(\"The array is\", arr5)\n",
    "\n",
    "# Create a numpy array of the even integers from 8 to 20 and print the array. (make sure 20 itself is included)   hint:  use \"arange\" method\n",
    "arr6 = np.arange(8,21,2)\n",
    "print(\"The array is\", arr6)"
   ]
  },
  {
   "cell_type": "code",
   "execution_count": 57,
   "metadata": {},
   "outputs": [
    {
     "name": "stdout",
     "output_type": "stream",
     "text": [
      "The mean is 1.9864622023242042\n",
      "The standard deviation is 0.4837692698068216\n",
      "The maximum is 3.065187605195898\n",
      "The minimum is 0.7540604404953146\n",
      "The mean is 2.017534580190943\n",
      "The standard deviation is 0.49864505880553417\n",
      "The maximum is 3.7302989016684354\n",
      "The mean is 1.9999220058184284\n",
      "The standard deviation is 0.5003406189654561\n",
      "The maximum is 4.36150477879127\n"
     ]
    }
   ],
   "source": [
    "# Create a numpy array consisting of 100 random elements from normal distribution with mean of 2 and std of 0.5. Print the mean, max, min and std of the array.\n",
    "arr7 = np.random.normal(2,0.5,100)\n",
    "print(\"The mean is\", arr7.mean())\n",
    "print(\"The standard deviation is\", arr7.std())\n",
    "print(\"The maximum is\", arr7.max())\n",
    "print(\"The minimum is\", arr7.min())\n",
    "# Create a numpy array consisting of 1000 random elements from normal distribution with mean of 2 and std of 0.5. Print the mean, max, min and std of the array.\n",
    "arr8 = np.random.normal(2,0.5,1000)\n",
    "print(\"The mean is\", arr8.mean())\n",
    "print(\"The standard deviation is\", arr8.std())\n",
    "print(\"The maximum is\", arr8.max())\n",
    "# Create a numpy array consisting of 1000000 random elements from normal distribution with mean of 2 and std of 0.5. Print the mean, max, min and std of the array.\n",
    "arr9 = np.random.normal(2,0.5,1000000)\n",
    "print(\"The mean is\", arr9.mean())\n",
    "print(\"The standard deviation is\", arr9.std())\n",
    "print(\"The maximum is\", arr9.max())\n",
    "# (Bonus question) Looking at the three above examples with 1000, 5000, and 10000 random elements, do you have any observations about mean and std values?\n",
    "# Even though the array sizes are different the mean and standard deviation are similar for all the three arrays"
   ]
  },
  {
   "cell_type": "code",
   "execution_count": null,
   "metadata": {},
   "outputs": [],
   "source": []
  },
  {
   "cell_type": "code",
   "execution_count": null,
   "metadata": {},
   "outputs": [],
   "source": []
  }
 ],
 "metadata": {
  "kernelspec": {
   "display_name": "Python 3 (ipykernel)",
   "language": "python",
   "name": "python3"
  },
  "language_info": {
   "codemirror_mode": {
    "name": "ipython",
    "version": 3
   },
   "file_extension": ".py",
   "mimetype": "text/x-python",
   "name": "python",
   "nbconvert_exporter": "python",
   "pygments_lexer": "ipython3",
   "version": "3.10.12"
  }
 },
 "nbformat": 4,
 "nbformat_minor": 1
}
